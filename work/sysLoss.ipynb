{
 "cells": [
  {
   "cell_type": "code",
   "execution_count": 178,
   "id": "5dcaec13",
   "metadata": {},
   "outputs": [],
   "source": [
    "from enum import Enum, unique\n",
    "import toml\n",
    "from scipy.optimize import fsolve\n",
    "import numpy as np\n",
    "from rich.tree import Tree\n",
    "import pandas as pd"
   ]
  },
  {
   "cell_type": "code",
   "execution_count": 179,
   "id": "b221c3da",
   "metadata": {
    "scrolled": true
   },
   "outputs": [],
   "source": [
    "@unique\n",
    "class ElementTypes(Enum):\n",
    "    \"\"\"Element types\"\"\"\n",
    "    SOURCE = 1\n",
    "    LOAD = 2\n",
    "    LOSS = 3\n",
    "    CONVERTER = 4\n",
    "    LINREG = 5"
   ]
  },
  {
   "cell_type": "code",
   "execution_count": 180,
   "id": "0ca90725",
   "metadata": {},
   "outputs": [
    {
     "data": {
      "text/plain": [
       "('SOURCE', 1)"
      ]
     },
     "execution_count": 180,
     "metadata": {},
     "output_type": "execute_result"
    }
   ],
   "source": [
    "ElementTypes.SOURCE.name, ElementTypes.SOURCE.value"
   ]
  },
  {
   "cell_type": "code",
   "execution_count": 307,
   "id": "f2e4551e",
   "metadata": {},
   "outputs": [],
   "source": [
    "IMAX_DEFAULT = 1.0e6\n",
    "\n",
    "class ElementMeta(type):\n",
    "    \"\"\"An element metaclass that will be used for element class creation.\n",
    "    \"\"\"\n",
    "    def __instancecheck__(cls, instance):\n",
    "        return cls.__subclasscheck__(type(instance))\n",
    "\n",
    "    def __subclasscheck__(cls, subclass):\n",
    "        return (hasattr(subclass, 'solv_inp_curr') and \n",
    "                callable(subclass.solv_inp_curr) and \n",
    "                hasattr(subclass, 'solv_outp_volt') and \n",
    "                callable(subclass.solv_outp_volt) and\n",
    "                hasattr(subclass, 'element_type') and\n",
    "                hasattr(subclass, 'child_types'))\n",
    "\n",
    "class ElementInterface(metaclass=ElementMeta):\n",
    "    \"\"\"This interface is used for concrete element classes to inherit from.\n",
    "    There is no need to define the ElementMeta methods of any class\n",
    "    as they are implicitly made available via .__subclasscheck__().\n",
    "    \"\"\"\n",
    "    pass\n",
    "    \n",
    "    # solver functions\n",
    "    #def solv_inp_curr(self, vi, vo, io):\n",
    "    #    return 0.0\n",
    "    \n",
    "    #def solv_outp_volt(self, vi, ii, io):\n",
    "    #    return 0.0 \n",
    "    \n",
    "\n",
    "class Source:\n",
    "    \"\"\"The Source element must the root of a system. \n",
    "    A system can only have one source.\n",
    "    \n",
    "    Attributes\n",
    "    ----------\n",
    "    element_type : ElementTypes.SOURCE (enum)\n",
    "        type of element\n",
    "    \"\"\"\n",
    "    @property\n",
    "    def element_type(self):\n",
    "        \"\"\"Defines the element type\"\"\"\n",
    "        return ElementTypes.SOURCE\n",
    "    \n",
    "    @property\n",
    "    def child_types(self):\n",
    "        \"\"\"Defines allowable child element types\"\"\"\n",
    "        et = list(ElementTypes)\n",
    "        et.remove(ElementTypes.SOURCE)\n",
    "        return et\n",
    "           \n",
    "    def __init__(self, name, *, vo, rs=0.0, imax=IMAX_DEFAULT):\n",
    "        \"\"\"Set source name, voltage, internal resistance and max current\"\"\"\n",
    "        self.name = name\n",
    "        if not (vo > 0):\n",
    "            raise ValueError('Source voltage must be > 0')\n",
    "        self.vo = float(vo)\n",
    "        #if not (voltage > 0):\n",
    "        #    raise ValueError('Source voltage must be > 0')\n",
    "        self.imax = imax\n",
    "        self.rs = rs\n",
    "        \n",
    "    @classmethod\n",
    "    def from_file(cls, name, *, fname=\"\"):\n",
    "        \"\"\"Configure source from configuration file\"\"\"\n",
    "        with open(fname, 'r') as f:\n",
    "            config = toml.load(f)\n",
    "        if not 'voltage' in config:\n",
    "            raise KeyError('Config file is missing entry for \\'voltage\\'')\n",
    "        v = config['voltage']\n",
    "        if 'max_current' in config:    \n",
    "            mc = config['max_current']\n",
    "        else:\n",
    "            mc = -1\n",
    "        \n",
    "        return cls(name, voltage=v, max_current=mc)\n",
    "     \n",
    "    def get_inp_current(self):\n",
    "        return 0.0\n",
    "    \n",
    "    def get_outp_voltage(self):\n",
    "        return self.vo\n",
    "    \n",
    "    #def set_outp_voltage(self, voltage):\n",
    "    #    self.vo = float(voltage)\n",
    "    \n",
    "    def solv_inp_curr(self, vi, vo, io):\n",
    "        \"\"\"Calculate element input current from vi, vo and io\"\"\"\n",
    "        return io\n",
    "        \n",
    "    def solv_outp_volt(self, vi, ii, io):\n",
    "        \"\"\"Calculate element output voltage from vi, ii and io\"\"\"\n",
    "        return self.vo - self.rs * io\n",
    "    \n",
    "    def solv_pwr_loss(self, vi, vo, ii, io):\n",
    "        \"\"\"Calculate power and loss in element\"\"\"\n",
    "        pwr = vo * io\n",
    "        loss = self.rs * io * io\n",
    "        return pwr, loss, (pwr - loss) / pwr\n",
    "        \n",
    "        \n",
    "class Load:\n",
    "    \"\"\"The Load element .\n",
    "    \n",
    "    Attributes\n",
    "    ----------\n",
    "    element_type : ElementTypes.LOAD (enum)\n",
    "        type of element\n",
    "    \"\"\"\n",
    "    @property\n",
    "    def element_type(self):\n",
    "        \"\"\"Defines the element type\"\"\"\n",
    "        return ElementTypes.LOAD\n",
    "    \n",
    "    @property\n",
    "    def child_types(self):\n",
    "        \"\"\"The Load element cannot have childs\"\"\"\n",
    "        return None\n",
    "    \n",
    "    def __init__(self, name, *, pwr):\n",
    "        self.name = name\n",
    "        if not (pwr >= 0):\n",
    "            raise ValueError('Load input power must be > 0')\n",
    "        self.pwr = float(pwr)\n",
    "        \n",
    "    def get_inp_current(self):\n",
    "        return 0.0 # TODO if current load -> return load     \n",
    "    \n",
    "    def get_outp_voltage(self):\n",
    "        return 0.0\n",
    "        \n",
    "    def solv_inp_curr(self, vi, vo, io):\n",
    "        \"\"\"Calculate element input current from vi, vo and io\"\"\"\n",
    "        if vi > 0:\n",
    "            return self.pwr / vi\n",
    "        return 0.0\n",
    "    \n",
    "    def solv_outp_volt(self, vi, ii, io):\n",
    "        \"\"\"Load output voltage is always 0\"\"\"\n",
    "        return 0.0\n",
    "    \n",
    "    def solv_pwr_loss(self, vi, vo, ii, io):\n",
    "        \"\"\"Calculate power and loss in element\"\"\"\n",
    "        return vi * ii, 0.0, 100.0\n",
    "     \n",
    "        \n",
    "class Loss:\n",
    "    \"\"\"The Loss element \n",
    "    \n",
    "    Attributes\n",
    "    ----------\n",
    "    element_type : ElementTypes.LOSS (enum)\n",
    "        type of element\n",
    "    \"\"\"\n",
    "    @property\n",
    "    def element_type(self):\n",
    "        \"\"\"Defines the element type\"\"\"\n",
    "        return ElementTypes.LOSS\n",
    "    \n",
    "    @property\n",
    "    def child_types(self):\n",
    "        \"\"\"Defines allowable child element types\"\"\"\n",
    "        et = list(ElementTypes)\n",
    "        et.remove(ElementTypes.SOURCE)\n",
    "        return et\n",
    "    \n",
    "    def __init__(self, name, *, res):\n",
    "        self.name = name\n",
    "        self.r = float(res)\n",
    "        \n",
    "    def get_inp_current(self):\n",
    "        return 0.0\n",
    "        \n",
    "    def get_outp_voltage(self):\n",
    "        return 0.0\n",
    "        \n",
    "    def solv_inp_curr(self, vi, vo, io):\n",
    "        \"\"\"Calculate element input current from vi, vo and io\"\"\"\n",
    "        return io # TODO: iq\n",
    "    \n",
    "    def solv_outp_volt(self, vi, ii, io):\n",
    "        \"\"\"Calculate element output voltage from vi, ii and io\"\"\"\n",
    "        return vi - self.r * io\n",
    "    \n",
    "    def solv_pwr_loss(self, vi, vo, ii, io):\n",
    "        \"\"\"Calculate power and loss in element\"\"\"\n",
    "        loss = self.r * ii * ii\n",
    "        pwr = vi * ii\n",
    "        return 0.0, loss, (pwr - loss) / pwr\n",
    "        \n",
    "class Converter:  \n",
    "    \"\"\"The Converter element \n",
    "    \n",
    "    Attributes\n",
    "    ----------\n",
    "    element_type : ElementTypes.LOSS (enum)\n",
    "        type of element\n",
    "    \"\"\"\n",
    "    @property\n",
    "    def element_type(self):\n",
    "        \"\"\"Defines the element type\"\"\"\n",
    "        return ElementTypes.CONVERTER\n",
    "    \n",
    "    @property\n",
    "    def child_types(self):\n",
    "        \"\"\"Defines allowable child element types\"\"\"\n",
    "        et = list(ElementTypes)\n",
    "        et.remove(ElementTypes.SOURCE)\n",
    "        return et\n",
    "    \n",
    "    def __init__(self, name, *, vo, eff, iq=0.0, imax=IMAX_DEFAULT): # add Iq\n",
    "        self.name = name\n",
    "        if not (float(vo) > 0.0):\n",
    "            raise ValueError('Output voltage must be > 0.0')\n",
    "        self.vo = float(vo)\n",
    "        if not (float(eff) > 0.0):\n",
    "            raise ValueError('Efficiency must be > 0.0')\n",
    "        if not (float(eff) < 1.0):\n",
    "            raise ValueError('Efficiency must be < 1.0')\n",
    "        self.eff = float(eff)\n",
    "        self.imax = float(imax)\n",
    "        self.iq = float(iq)\n",
    "\n",
    "    def get_inp_current(self):\n",
    "        return self.iq\n",
    "        \n",
    "    def get_outp_voltage(self):\n",
    "        return self.vo\n",
    "           \n",
    "    def solv_inp_curr(self, vi, vo, io):\n",
    "        \"\"\"Calculate element input current from vi, vo and io\"\"\"\n",
    "        ve = self.eff*vi\n",
    "        if ve > 0.0:\n",
    "            return self.iq + vo*io/ve\n",
    "        return 0.0\n",
    "    \n",
    "    def solv_outp_volt(self, vi, ii, io):\n",
    "        \"\"\"Calculate element output voltage from vi, ii and io\"\"\"\n",
    "        return self.vo\n",
    "    \n",
    "    def solv_pwr_loss(self, vi, vo, ii, io):\n",
    "        \"\"\"Calculate power and loss in element\"\"\"\n",
    "        loss = self.iq * vi + (ii - self.iq) * vi * (1. - self.eff)\n",
    "        pwr = vi * ii\n",
    "        return 0.0, loss, (pwr - loss) / pwr\n",
    "    \n",
    "class LinReg:  \n",
    "    \"\"\"The Linear regulator element \n",
    "    \n",
    "    Attributes\n",
    "    ----------\n",
    "    element_type : ElementTypes.LINREG (enum)\n",
    "        type of element\n",
    "    \"\"\"\n",
    "    @property\n",
    "    def element_type(self):\n",
    "        \"\"\"Defines the element type\"\"\"\n",
    "        return ElementTypes.LINREG\n",
    "    \n",
    "    @property\n",
    "    def child_types(self):\n",
    "        \"\"\"Defines allowable child element types\"\"\"\n",
    "        et = list(ElementTypes)\n",
    "        et.remove(ElementTypes.SOURCE)\n",
    "        return et\n",
    "    \n",
    "    def __init__(self, name, *, vo, vdrop, iq=0.0, imax=1.0e6):\n",
    "        self.name = name\n",
    "        if not (float(vo) > 0.0):\n",
    "            raise ValueError('Output voltage must be > 0.0')\n",
    "        self.vo = float(vo)\n",
    "        if not (float(vdrop) < vo):\n",
    "            raise ValueError('Voltage drop must be < vo')\n",
    "        self.vdrop = float(vdrop)\n",
    "        self.iq = float(iq)\n",
    "        self.imax = float(imax)\n",
    "        \n",
    "    def get_inp_current(self):\n",
    "        return self.iq\n",
    "        \n",
    "    def get_outp_voltage(self):\n",
    "        return self.vo\n",
    "    \n",
    "    def solv_inp_curr(self, vi, vo, io):\n",
    "        \"\"\"Calculate element input current from vi, vo and io\"\"\"\n",
    "        return io + self.iq\n",
    "    \n",
    "    def solv_outp_volt(self, vi, ii, io):\n",
    "        \"\"\"Calculate element output voltage from vi, ii and io\"\"\"\n",
    "        return self.vo\n",
    "    \n",
    "    def solv_pwr_loss(self, vi, vo, ii, io):\n",
    "        \"\"\"Calculate power and loss in element\"\"\"\n",
    "        loss = (vi - vo) * io + vi * self.iq\n",
    "        pwr = vi * ii\n",
    "        return 0.0, loss, (pwr - loss) / pwr"
   ]
  },
  {
   "cell_type": "code",
   "execution_count": 308,
   "id": "655ce9f8",
   "metadata": {},
   "outputs": [
    {
     "data": {
      "text/plain": [
       "(True, True, True, True, True)"
      ]
     },
     "execution_count": 308,
     "metadata": {},
     "output_type": "execute_result"
    }
   ],
   "source": [
    "(issubclass(Load, ElementInterface), issubclass(Source, ElementInterface), \n",
    "    issubclass(Loss, ElementInterface), issubclass(Converter, ElementInterface), issubclass(LinReg, ElementInterface))"
   ]
  },
  {
   "cell_type": "code",
   "execution_count": 309,
   "id": "a3e48fb6",
   "metadata": {},
   "outputs": [
    {
     "data": {
      "text/plain": [
       "(True,\n",
       " [<ElementTypes.LOAD: 2>,\n",
       "  <ElementTypes.LOSS: 3>,\n",
       "  <ElementTypes.CONVERTER: 4>,\n",
       "  <ElementTypes.LINREG: 5>])"
      ]
     },
     "execution_count": 309,
     "metadata": {},
     "output_type": "execute_result"
    }
   ],
   "source": [
    "s = Source('test', vo=12)\n",
    "hasattr(s, 'element_type'), s.child_types"
   ]
  },
  {
   "cell_type": "code",
   "execution_count": 310,
   "id": "19a6c162",
   "metadata": {},
   "outputs": [],
   "source": [
    "import rustworkx as rx\n",
    "import numpy as np\n",
    "from scipy.optimize import fsolve, least_squares\n",
    "from rich.tree import Tree\n",
    "\n",
    "class System:\n",
    "    \"\"\"System to be analyzed.\n",
    "    \"\"\"\n",
    "    \n",
    "    def __init__(self, name, source):\n",
    "        self.g = None\n",
    "        if type(name) != str:\n",
    "            raise ValueError(\"Error: Name \\\"{}\\\" of system must be a string!\".format(name))\n",
    "        elif not isinstance(source, Source):\n",
    "            raise ValueError(\"Error: First element of system must be a source!\")\n",
    "        else:\n",
    "            self.g = rx.PyDAG(check_cycle=True, multigraph=False, attrs={})\n",
    "            pidx = self.g.add_node(source)\n",
    "            self.g.attrs[source.name] = pidx\n",
    "            \n",
    "    def __get_index(self, name):\n",
    "        \"\"\"Get node index from element name\"\"\"\n",
    "        for n in [0] + list(rx.descendants(self.g, 0)):\n",
    "            if self.g.get_node_data(n).name == name:\n",
    "                return n\n",
    "        return -1\n",
    "    \n",
    "    def __chk_parent(self, parent):\n",
    "        \"\"\"Check if parent exists\"\"\"\n",
    "        if type(parent) != str:\n",
    "            raise ValueError(\"Error: Parent name must be a string!\")\n",
    "        # check if parent exists\n",
    "        if not parent in self.g.attrs.keys():\n",
    "            raise ValueError(\"Error: Parent name \\\"{}\\\" not found!\".format(parent))\n",
    "            return False\n",
    "        \n",
    "        return True\n",
    "    \n",
    "    # check if element name is valid\n",
    "    def __chk_name(self, name):\n",
    "        \"\"\"Check if element name is valid\"\"\"\n",
    "        # check name type\n",
    "        if type(name) != str:\n",
    "            raise ValueError(\"Error: Element name must be a string!\")\n",
    "            return False\n",
    "        # check if exists exists\n",
    "        pidx = self.__get_index(name)\n",
    "        if name in self.g.attrs.keys():\n",
    "            raise ValueError(\"Error: Element name \\\"{}\\\" is already used!\".format(name))\n",
    "            return False\n",
    "        \n",
    "        return True\n",
    "                  \n",
    "    def __get_childs(self, rev=True):\n",
    "        \"\"\"Get dict of parent/childs\"\"\"\n",
    "        if rev == True:\n",
    "            childs = list(reversed(rx.bfs_successors(self.g, 0)))\n",
    "        else:\n",
    "            childs = list(rx.bfs_successors(self.g, 0))\n",
    "        cdict = {}\n",
    "        for c in childs:\n",
    "            cs = []\n",
    "            for l in c[1]:\n",
    "                cs += [self.g.attrs[l.name]]\n",
    "            cdict[self.g.attrs[c[0].name]] = cs\n",
    "        return cdict\n",
    "    \n",
    "    def __get_nodes(self):\n",
    "        \"\"\"Get list of nodes in system\"\"\"\n",
    "        nodes = []\n",
    "        for n in self.g.nodes():\n",
    "            nodes += [self.g.attrs[n.name]]\n",
    "        return sorted(nodes)\n",
    "    \n",
    "    def __get_parents(self):\n",
    "        \"\"\"Get list of parent of each child\"\"\"\n",
    "        nodes = self.__get_nodes()\n",
    "        ps = np.zeros(max(nodes)+1, dtype=np.int32)\n",
    "        for n in nodes:\n",
    "            if n != 0:\n",
    "                pname = [i for i in self.g.attrs if self.g.attrs[i]==n]\n",
    "                ps[n] = case1.g.attrs[self.g.predecessors(self.g.attrs[pname[0]])[0].name]\n",
    "        return list(ps)\n",
    "    \n",
    "    def __get_edges(self):\n",
    "        \"\"\"Get list of element connections (edges)\"\"\"\n",
    "        return list(reversed(rx.dfs_edges(self.g, 0)))\n",
    "    \n",
    "    def __get_leaves(self):\n",
    "        \"\"\"Get list of leaf nodes\"\"\"\n",
    "        nodes = self.__get_nodes()\n",
    "        ls = np.zeros(max(nodes)+1, dtype=np.int32)\n",
    "        for n in nodes:\n",
    "            if self.g.out_degree(n) == 0:\n",
    "                ls[n] = 1\n",
    "        return list(ls)\n",
    "        \n",
    "    def __sys_vars(self):\n",
    "        \"\"\"Get system variable lists\"\"\"\n",
    "        vn = max(self.__get_nodes())+1 # highest node index + 1\n",
    "        v = list(np.zeros(vn)) # voltages\n",
    "        i = list(np.zeros(vn)) # currents\n",
    "        return v, i \n",
    "      \n",
    "    def __sys_init2(self):\n",
    "        \"\"\"Create vector of init values for solver\"\"\"\n",
    "        v, i = self.__sys_vars()\n",
    "        for n in self.__get_nodes():\n",
    "            v[n] = self.g[n].get_outp_voltage()\n",
    "            i[n] = self.g[n].get_inp_current()\n",
    "        return v+i\n",
    "    \n",
    "    def __sys_function2(self, x):\n",
    "        \"\"\"System function to be solved.\"\"\"\n",
    "        \n",
    "        # map x to v/i variables\n",
    "        vi, ii = self.__sys_vars()\n",
    "        for n in range(len(self.__nodes)):\n",
    "            vi[self.__nodes[n]] = x[n]\n",
    "        for e in range(len(self.__edges)):\n",
    "            ii[self.__edges[e][1]] = x[len(self.__nodes)+e]\n",
    "        ii[0] = x[-1]\n",
    "    \n",
    "        vo, io = self.__sys_vars()\n",
    "        # update output voltages (per node)\n",
    "        for n in self.__nodes:\n",
    "            if self.__leaves[n] == 1: # leaf\n",
    "                if n == 0: # root             \n",
    "                    vo[n] = vi[n] - self.g[n].solv_outp_volt(.0, .0, .0)\n",
    "                else:\n",
    "                    p = self.__parents[n]\n",
    "                    vo[n] = vi[n] - self.g[n].solv_outp_volt(vi[p], ii[p], .0)\n",
    "            else:\n",
    "                # add currents into childs\n",
    "                isum = 0\n",
    "                for c in self.__childs[n]: \n",
    "                    isum += ii[c]\n",
    "                if n == 0: # root\n",
    "                    vo[n] = vi[n] - self.g[n].solv_outp_volt(.0, .0, isum)\n",
    "                else:\n",
    "                    p = self.__parents[n]\n",
    "                    vo[n] = vi[n] - self.g[n].solv_outp_volt(vi[p], ii[p], isum)\n",
    "                \n",
    "        # update input currents (per edge)\n",
    "        for e in self.__edges:\n",
    "            if self.__leaves[e[1]] == 1: # leaf\n",
    "                io[e[1]] = ii[e[1]] - self.g[e[1]].solv_inp_curr(vi[e[0]], .0, .0)\n",
    "            else:\n",
    "                c = self.__childs[e[1]]\n",
    "                io[e[1]] = ii[e[1]] - self.g[e[1]].solv_inp_curr(vi[e[0]], vi[e[1]], ii[c[0]])\n",
    "        # add currents into childs from root\n",
    "        isum = 0\n",
    "        for c in self.__childs[0]:\n",
    "            isum += ii[c]\n",
    "        io[0] = ii[0] - isum\n",
    "            \n",
    "        # map f(v/i) to f(x)\n",
    "        y = np.zeros(len(x))\n",
    "        for n in range(len(self.__nodes)):\n",
    "            y[n] = vo[self.__nodes[n]]\n",
    "        for e in range(len(self.__edges)):\n",
    "            y[len(self.__nodes)+e] = io[self.__edges[e][1]] \n",
    "        y[-1] = io[0] \n",
    "            \n",
    "        #print(y)\n",
    "        return y\n",
    "    \n",
    "    def __make_rtree(self, adj, node):\n",
    "        \"\"\"Create Rich tree\"\"\"\n",
    "        tree = Tree(node)\n",
    "        for child in adj.get(node, []):\n",
    "            tree.add(self.__make_rtree(adj, child))\n",
    "        return tree\n",
    "    \n",
    "    def add_element(self, parent, *, element):\n",
    "        \"\"\"Add element to system\"\"\"\n",
    "        if not self.__chk_parent(parent):\n",
    "            return\n",
    "        if not self.__chk_name(element.name):\n",
    "            return\n",
    "        \n",
    "        pidx = self.__get_index(parent)\n",
    "        cidx = self.g.add_child(pidx, element, None)\n",
    "        self.g.attrs[element.name] = cidx\n",
    "       \n",
    "    def tree(self, name=''):\n",
    "        \"\"\"Print tree structure, starting from node name\"\"\"\n",
    "        if not name == '':\n",
    "            if not name in self.g.attrs.keys():\n",
    "                raise ValueError(\"Error: Element name is not valid!\")\n",
    "            root = name\n",
    "        else:\n",
    "            root = self.g[0].name\n",
    "            \n",
    "        adj = rx.bfs_successors(self.g, self.g.attrs[root])\n",
    "        ndict = {}\n",
    "        for i in adj:\n",
    "            c = []\n",
    "            for j in i[1]:\n",
    "                c += [j.name]\n",
    "            ndict[i[0].name] = c\n",
    "        return self.__make_rtree(ndict, root)\n",
    "    \n",
    "    def solve2(self):\n",
    "        \"\"\"Analyze system\"\"\"\n",
    "        # create lists of element realtionships for use by __sys_function()\n",
    "        self.__nodes = self.__get_nodes()\n",
    "        self.__edges = self.__get_edges()\n",
    "        self.__childs = self.__get_childs()\n",
    "        self.__parents = self.__get_parents()\n",
    "        self.__leaves = self.__get_leaves()\n",
    "        # solve system function\n",
    "        res = fsolve(self.__sys_function2, self.__sys_init2(), full_output = True)\n",
    "        #res = least_squares(self.__sys_function2, self.__sys_init())\n",
    "        return res\n",
    "    \n",
    "    def __sys_init(self):\n",
    "        \"\"\"Create vectors of init values for solver\"\"\"\n",
    "        v, i = self.__sys_vars()\n",
    "        for n in self.__get_nodes():\n",
    "            v[n] = self.g[n].get_outp_voltage()\n",
    "            i[n] = self.g[n].get_inp_current()\n",
    "        return v, i\n",
    "    \n",
    "    def __fwd_prop(self, v, i):\n",
    "        \"\"\"Forward propagation of voltages\"\"\"\n",
    "        vo, _ = self.__sys_vars()\n",
    "        # update output voltages (per node)\n",
    "        for n in self.__nodes:\n",
    "            if self.__leaves[n] == 1: # leaf\n",
    "                if n == 0: # root             \n",
    "                    vo[n] = self.g[n].solv_outp_volt(.0, .0, .0)\n",
    "                    #print('leaf, root:', vo[n], n)\n",
    "                else:\n",
    "                    p = self.__parents[n]\n",
    "                    vo[n] = self.g[n].solv_outp_volt(v[p], i[p], .0)\n",
    "                    #print('leaf: ', vo[n], n)\n",
    "            else:\n",
    "                # add currents into childs\n",
    "                isum = 0\n",
    "                for c in self.__childs_f[n]: \n",
    "                    isum += i[c]\n",
    "                if n == 0: # root\n",
    "                    vo[n] = self.g[n].solv_outp_volt(.0, .0, isum)\n",
    "                    #print('root:', vo[n], n)\n",
    "                else:\n",
    "                    p = self.__parents[n]\n",
    "                    vo[n] = self.g[n].solv_outp_volt(v[p], i[p], isum)\n",
    "                    #print('element:' , vo[n], n)\n",
    "        \n",
    "        return vo\n",
    "\n",
    "    def __back_prop(self, v, i):\n",
    "        \"\"\"Backward propagation of currents\"\"\"\n",
    "        _, io = self.__sys_vars()\n",
    "        # update input currents (per edge)\n",
    "        for e in self.__edges:\n",
    "            if self.__leaves[e[1]] == 1: # leaf\n",
    "                io[e[1]] = self.g[e[1]].solv_inp_curr(v[e[0]], .0, .0)\n",
    "            else:\n",
    "                c = self.__childs_b[e[1]]\n",
    "                io[e[1]] = self.g[e[1]].solv_inp_curr(v[e[0]], v[e[1]], i[c[0]])\n",
    "        # add currents into childs from root\n",
    "        for c in self.__childs_b[0]:\n",
    "            io[0] += i[c]\n",
    "        \n",
    "        return io\n",
    "    \n",
    "    def solve(self, *, vtol=1e-3, itol=1e-6, maxiter=1000):\n",
    "        \"\"\"Analyze system\"\"\"\n",
    "        # create lists of element realtionships for use by __sys_function()\n",
    "        self.__nodes = self.__get_nodes()\n",
    "        self.__edges = self.__get_edges()\n",
    "        self.__childs_f = self.__get_childs(rev = False)\n",
    "        self.__childs_b = self.__get_childs(rev = True)\n",
    "        self.__parents = self.__get_parents()\n",
    "        self.__leaves = self.__get_leaves()\n",
    "        # initial condition\n",
    "        v, i = self.__sys_init()\n",
    "        # solve system function\n",
    "        iters = 1\n",
    "        while iters <= maxiter:\n",
    "            vi = self.__fwd_prop(v, i)\n",
    "            #print(vi)\n",
    "            ii = self.__back_prop(vi, i)\n",
    "            #print(ii)\n",
    "            iters += 1\n",
    "            \n",
    "            if np.allclose(np.array(v), np.array(vi), rtol=vtol) and np.allclose(np.array(i), np.array(ii), rtol=itol):\n",
    "                #print(\"tol reached\")\n",
    "                break;\n",
    "            v, i = vi, ii\n",
    "            \n",
    "        # create PD frame with result\n",
    "        res = {}\n",
    "        names, parent, pwr, loss, eff = [], [], [], [], []\n",
    "        for n in self.__nodes: # [vi, vo, ii, io]\n",
    "            names += [self.g[n].name]\n",
    "            if n == 0: # root \n",
    "                p, l, e = self.g[n].solv_pwr_loss(v[n], v[n], i[n], i[n])\n",
    "                #p = 0.0\n",
    "                parent += [None]\n",
    "                #print(n, v[n], v[n], i[n], i[n], p, l)\n",
    "            elif self.__leaves[n] == 1: # leaf\n",
    "                p, l, e = self.g[n].solv_pwr_loss(v[self.__parents[n]], v[n], i[n], 0.0)\n",
    "                parent += [self.g[self.__parents[n]].name]\n",
    "                #print(n, v[n], 0.0, i[n], 0.0, p, l)\n",
    "            else:\n",
    "                isum = 0.0\n",
    "                for c in self.__childs_f[n]: \n",
    "                    isum += i[c]\n",
    "                p, l, e = self.g[n].solv_pwr_loss(v[self.__parents[n]], v[n], i[n], isum)\n",
    "                parent += [self.g[self.__parents[n]].name]\n",
    "                #print(n, v[self.__parents[n]], v[n], i[n], isum, p, l)\n",
    "                \n",
    "            pwr += [p]\n",
    "            loss += [l]\n",
    "            eff += [e]\n",
    "            \n",
    "        \n",
    "        res['Element'] = names\n",
    "        res['Parent'] = parent\n",
    "        res['Vout (V)'] = v\n",
    "        res['Iin (A)'] = i\n",
    "        res['Power (W)'] = pwr #[res['Power (W)'].sum() - res['Power (W)'][0]]\n",
    "        res['Loss (W)'] = loss #[res['Loss (W)'].sum()]\n",
    "        res['Efficiency (%)'] = eff\n",
    "        df = pd.DataFrame(res)\n",
    "        #df['Total']['Power (W)'] = df['Power (W)'].sum() - df['Power (W)'][0]\n",
    "        #df['Total']['Loss (W)'] = df['Loss (W)'].sum()\n",
    "        #tpwr = df['Power (W)'].sum() - df['Power (W)'][0]\n",
    "        tpwr = v[0] * i[0]\n",
    "        tloss = df['Loss (W)'].sum()\n",
    "        df.loc[len(df)] = ['System total', None, v[0], i[0], tpwr, tloss, (tpwr - tloss)/tpwr]\n",
    "         \n",
    "        return df"
   ]
  },
  {
   "cell_type": "markdown",
   "id": "9411f6f5",
   "metadata": {},
   "source": [
    "![case1](case_1.svg)"
   ]
  },
  {
   "cell_type": "code",
   "execution_count": 313,
   "id": "15047412",
   "metadata": {},
   "outputs": [
    {
     "data": {
      "text/html": [
       "<pre style=\"white-space:pre;overflow-x:auto;line-height:normal;font-family:Menlo,'DejaVu Sans Mono',consolas,'Courier New',monospace\">3V coin\n",
       "├── 5V boost\n",
       "│   ├── LDO 2.5V\n",
       "│   │   └── ADC\n",
       "│   └── Sensor\n",
       "└── Resistor\n",
       "    └── 1.8V buck\n",
       "        └── MCU\n",
       "</pre>\n"
      ],
      "text/plain": [
       "3V coin\n",
       "├── 5V boost\n",
       "│   ├── LDO 2.5V\n",
       "│   │   └── ADC\n",
       "│   └── Sensor\n",
       "└── Resistor\n",
       "    └── 1.8V buck\n",
       "        └── MCU\n"
      ]
     },
     "execution_count": 313,
     "metadata": {},
     "output_type": "execute_result"
    }
   ],
   "source": [
    "case1 = System('Bluetooth sensor', Source('3V coin', vo=3, rs=13e-3))\n",
    "case1.add_element(parent='3V coin', element=Loss('Resistor', res=33.0))\n",
    "case1.add_element('Resistor', element=Converter('1.8V buck', vo=1.8, eff=0.87, iq=12e-6))\n",
    "case1.add_element('1.8V buck', element=Load('MCU', pwr=27e-3))\n",
    "case1.add_element('3V coin', element=Converter('5V boost', vo=5, eff=0.91, iq=42e-6))\n",
    "case1.add_element('5V boost', element=Load('Sensor', pwr=15e-3))\n",
    "case1.add_element('5V boost', element=LinReg('LDO 2.5V', vo=2.5, vdrop=0.27, iq=150e-6))\n",
    "case1.add_element('LDO 2.5V', element=Load('ADC', pwr=15e-3))\n",
    "#case1.g.attrs\n",
    "case1.tree()"
   ]
  },
  {
   "cell_type": "code",
   "execution_count": 314,
   "id": "57992fd5",
   "metadata": {},
   "outputs": [
    {
     "data": {
      "text/html": [
       "<div>\n",
       "<style scoped>\n",
       "    .dataframe tbody tr th:only-of-type {\n",
       "        vertical-align: middle;\n",
       "    }\n",
       "\n",
       "    .dataframe tbody tr th {\n",
       "        vertical-align: top;\n",
       "    }\n",
       "\n",
       "    .dataframe thead th {\n",
       "        text-align: right;\n",
       "    }\n",
       "</style>\n",
       "<table border=\"1\" class=\"dataframe\">\n",
       "  <thead>\n",
       "    <tr style=\"text-align: right;\">\n",
       "      <th></th>\n",
       "      <th>Element</th>\n",
       "      <th>Parent</th>\n",
       "      <th>Vout (V)</th>\n",
       "      <th>Iin (A)</th>\n",
       "      <th>Power (W)</th>\n",
       "      <th>Loss (W)</th>\n",
       "      <th>Efficiency (%)</th>\n",
       "    </tr>\n",
       "  </thead>\n",
       "  <tbody>\n",
       "    <tr>\n",
       "      <th>0</th>\n",
       "      <td>3V coin</td>\n",
       "      <td>None</td>\n",
       "      <td>2.999698</td>\n",
       "      <td>0.023226</td>\n",
       "      <td>0.069671</td>\n",
       "      <td>0.000007</td>\n",
       "      <td>0.999899</td>\n",
       "    </tr>\n",
       "    <tr>\n",
       "      <th>1</th>\n",
       "      <td>Resistor</td>\n",
       "      <td>3V coin</td>\n",
       "      <td>2.606365</td>\n",
       "      <td>0.011919</td>\n",
       "      <td>0.000000</td>\n",
       "      <td>0.004688</td>\n",
       "      <td>0.868876</td>\n",
       "    </tr>\n",
       "    <tr>\n",
       "      <th>2</th>\n",
       "      <td>1.8V buck</td>\n",
       "      <td>Resistor</td>\n",
       "      <td>1.800000</td>\n",
       "      <td>0.011919</td>\n",
       "      <td>0.000000</td>\n",
       "      <td>0.004066</td>\n",
       "      <td>0.869124</td>\n",
       "    </tr>\n",
       "    <tr>\n",
       "      <th>3</th>\n",
       "      <td>MCU</td>\n",
       "      <td>1.8V buck</td>\n",
       "      <td>0.000000</td>\n",
       "      <td>0.015000</td>\n",
       "      <td>0.027000</td>\n",
       "      <td>0.000000</td>\n",
       "      <td>100.000000</td>\n",
       "    </tr>\n",
       "    <tr>\n",
       "      <th>4</th>\n",
       "      <td>5V boost</td>\n",
       "      <td>3V coin</td>\n",
       "      <td>5.000000</td>\n",
       "      <td>0.011307</td>\n",
       "      <td>0.000000</td>\n",
       "      <td>0.003167</td>\n",
       "      <td>0.906620</td>\n",
       "    </tr>\n",
       "    <tr>\n",
       "      <th>5</th>\n",
       "      <td>Sensor</td>\n",
       "      <td>5V boost</td>\n",
       "      <td>0.000000</td>\n",
       "      <td>0.003000</td>\n",
       "      <td>0.015000</td>\n",
       "      <td>0.000000</td>\n",
       "      <td>100.000000</td>\n",
       "    </tr>\n",
       "    <tr>\n",
       "      <th>6</th>\n",
       "      <td>LDO 2.5V</td>\n",
       "      <td>5V boost</td>\n",
       "      <td>2.500000</td>\n",
       "      <td>0.006150</td>\n",
       "      <td>0.000000</td>\n",
       "      <td>0.015750</td>\n",
       "      <td>0.487805</td>\n",
       "    </tr>\n",
       "    <tr>\n",
       "      <th>7</th>\n",
       "      <td>ADC</td>\n",
       "      <td>LDO 2.5V</td>\n",
       "      <td>0.000000</td>\n",
       "      <td>0.006000</td>\n",
       "      <td>0.015000</td>\n",
       "      <td>0.000000</td>\n",
       "      <td>100.000000</td>\n",
       "    </tr>\n",
       "    <tr>\n",
       "      <th>8</th>\n",
       "      <td>System total</td>\n",
       "      <td>None</td>\n",
       "      <td>2.999698</td>\n",
       "      <td>0.023226</td>\n",
       "      <td>0.069671</td>\n",
       "      <td>0.027678</td>\n",
       "      <td>0.602731</td>\n",
       "    </tr>\n",
       "  </tbody>\n",
       "</table>\n",
       "</div>"
      ],
      "text/plain": [
       "        Element     Parent  Vout (V)   Iin (A)  Power (W)  Loss (W)  \\\n",
       "0       3V coin       None  2.999698  0.023226   0.069671  0.000007   \n",
       "1      Resistor    3V coin  2.606365  0.011919   0.000000  0.004688   \n",
       "2     1.8V buck   Resistor  1.800000  0.011919   0.000000  0.004066   \n",
       "3           MCU  1.8V buck  0.000000  0.015000   0.027000  0.000000   \n",
       "4      5V boost    3V coin  5.000000  0.011307   0.000000  0.003167   \n",
       "5        Sensor   5V boost  0.000000  0.003000   0.015000  0.000000   \n",
       "6      LDO 2.5V   5V boost  2.500000  0.006150   0.000000  0.015750   \n",
       "7           ADC   LDO 2.5V  0.000000  0.006000   0.015000  0.000000   \n",
       "8  System total       None  2.999698  0.023226   0.069671  0.027678   \n",
       "\n",
       "   Efficiency (%)  \n",
       "0        0.999899  \n",
       "1        0.868876  \n",
       "2        0.869124  \n",
       "3      100.000000  \n",
       "4        0.906620  \n",
       "5      100.000000  \n",
       "6        0.487805  \n",
       "7      100.000000  \n",
       "8        0.602731  "
      ]
     },
     "execution_count": 314,
     "metadata": {},
     "output_type": "execute_result"
    }
   ],
   "source": [
    "df = case1.solve()\n",
    "df"
   ]
  },
  {
   "cell_type": "code",
   "execution_count": null,
   "id": "4df97999",
   "metadata": {},
   "outputs": [],
   "source": []
  },
  {
   "cell_type": "code",
   "execution_count": 194,
   "id": "b7a44d9d",
   "metadata": {},
   "outputs": [
    {
     "data": {
      "text/plain": [
       "0.05699999999999998"
      ]
     },
     "execution_count": 194,
     "metadata": {},
     "output_type": "execute_result"
    }
   ],
   "source": [
    "df['Power (W)'].sum() - df['Power (W)'][0]"
   ]
  },
  {
   "cell_type": "code",
   "execution_count": 95,
   "id": "72fff953",
   "metadata": {},
   "outputs": [
    {
     "name": "stdout",
     "output_type": "stream",
     "text": [
      "0 3V coin\n",
      "4 5V boost\n",
      "6 LDO 2.5V\n",
      "7 ADC\n",
      "5 Sensor\n",
      "1 Resistor\n",
      "2 1.8V buck\n",
      "3 MCU\n"
     ]
    }
   ],
   "source": [
    "#case1._System__childs_f\n",
    "#su = rx.bfs_successors(case1.g, 0)\n",
    "su = rx.topological_sort(case1.g)\n",
    "for i in su:\n",
    "    print(i, case1.g[i].name)"
   ]
  },
  {
   "cell_type": "code",
   "execution_count": 52,
   "id": "5453d07c",
   "metadata": {},
   "outputs": [
    {
     "data": {
      "text/plain": [
       "True"
      ]
     },
     "execution_count": 52,
     "metadata": {},
     "output_type": "execute_result"
    }
   ],
   "source": [
    "np.allclose(np.array(v), np.array(v)*1.001, rtol=1e-3)"
   ]
  },
  {
   "cell_type": "code",
   "execution_count": 36,
   "id": "a8d0cbfc",
   "metadata": {},
   "outputs": [
    {
     "data": {
      "text/plain": [
       "array([ 2.99862512e+00, -8.19390188e-12,  1.80000000e+00,  0.00000000e+00,\n",
       "        4.99999999e+00,  0.00000000e+00,  2.50000000e+00,  0.00000000e+00,\n",
       "        6.00000000e-03,  6.14783077e-03,  3.00000000e-03,  1.13291237e-02,\n",
       "        1.50000000e-02,  9.07841867e-02,  9.08674277e-02,  1.02173211e-01])"
      ]
     },
     "execution_count": 36,
     "metadata": {},
     "output_type": "execute_result"
    }
   ],
   "source": [
    "res = case1.solve2()\n",
    "res[0]"
   ]
  },
  {
   "cell_type": "code",
   "execution_count": 62,
   "id": "47eeb702",
   "metadata": {},
   "outputs": [
    {
     "data": {
      "text/plain": [
       "array([3.00000000e+00, 2.60718609e+00, 1.80000000e+00, 0.00000000e+00,\n",
       "       5.00000000e+00, 0.00000000e+00, 2.50000000e+00, 0.00000000e+00,\n",
       "       6.00000000e-03, 6.15000000e-03, 3.00000000e-03, 1.13057363e-02,\n",
       "       1.50000000e-02, 1.19034518e-02, 1.19034518e-02, 2.32091881e-02])"
      ]
     },
     "execution_count": 62,
     "metadata": {},
     "output_type": "execute_result"
    }
   ],
   "source": [
    "res = case1.solve()\n",
    "res[0]"
   ]
  },
  {
   "cell_type": "code",
   "execution_count": 78,
   "id": "81f840c8",
   "metadata": {},
   "outputs": [
    {
     "name": "stdout",
     "output_type": "stream",
     "text": [
      "10.8 ms ± 51.4 µs per loop (mean ± std. dev. of 7 runs, 100 loops each)\n"
     ]
    }
   ],
   "source": [
    "%timeit case1.solve()"
   ]
  },
  {
   "cell_type": "code",
   "execution_count": 35,
   "id": "e6a288bf",
   "metadata": {},
   "outputs": [
    {
     "name": "stdout",
     "output_type": "stream",
     "text": [
      "4.18 ms ± 7.27 µs per loop (mean ± std. dev. of 7 runs, 100 loops each)\n"
     ]
    }
   ],
   "source": [
    "%timeit case1.solve()"
   ]
  },
  {
   "cell_type": "code",
   "execution_count": 151,
   "id": "8ee6ea6b",
   "metadata": {},
   "outputs": [
    {
     "data": {
      "text/plain": [
       "'3V coin'"
      ]
     },
     "execution_count": 151,
     "metadata": {},
     "output_type": "execute_result"
    }
   ],
   "source": [
    "rx.bfs_successors(case1.g, self.g.attrs[])"
   ]
  },
  {
   "cell_type": "code",
   "execution_count": 22,
   "id": "153265a0",
   "metadata": {},
   "outputs": [],
   "source": [
    "# get system variables\n",
    "def sys_vars(sys):\n",
    "    vn = max(sys.get_nodes())+1 # highest node index + 1\n",
    "    v = list(np.zeros(vn)) # voltages\n",
    "    i = list(np.zeros(vn)) # currents\n",
    "    return v, i\n",
    "\n",
    "# get initialization vector\n",
    "def sys_init(sys):\n",
    "    v, i = sys_vars(sys)\n",
    "    for n in sys.get_nodes():\n",
    "        #v[n] = sys.g[n].get_outp_voltage()\n",
    "        v[n] = np.random.uniform(0.5, 1.5)\n",
    "        i[n] = np.random.uniform(0.001, 0.2)\n",
    "        \n",
    "    return v+i\n",
    "\n",
    "def sys_function(x, nodes, edges, childs, parents, leaves, sys):\n",
    "    # map x to v/i variables\n",
    "    vi, ii = sys_vars(sys)\n",
    "    for n in range(len(nodes)):\n",
    "        vi[nodes[n]] = x[n]\n",
    "    for e in range(len(edges)):\n",
    "        ii[edges[e][1]] = x[len(nodes)+e]\n",
    "    ii[0] = x[-1]\n",
    "    \n",
    "    vo, io = sys_vars(sys)\n",
    "    # update output voltages (per node)\n",
    "    for n in nodes:\n",
    "        if leaves[n] == 1: # leaf\n",
    "            if n == 0: # root             \n",
    "                vo[n] = vi[n] - sys.g[n].solv_outp_volt(.0, .0, .0)\n",
    "            else:\n",
    "                p = parents[n]\n",
    "                vo[n] = vi[n] - sys.g[n].solv_outp_volt(vi[p], ii[p], .0)\n",
    "        else:\n",
    "            # add currents into childs\n",
    "            isum = 0\n",
    "            for c in childs[n]: \n",
    "                isum += ii[c]\n",
    "            if n == 0: # root\n",
    "                vo[n] = vi[n] - sys.g[n].solv_outp_volt(.0, .0, isum)\n",
    "            else:\n",
    "                p = parents[n]\n",
    "                vo[n] = vi[n] - sys.g[n].solv_outp_volt(vi[p], ii[p], isum)\n",
    "                \n",
    "    # update input currents (per edge)\n",
    "    for e in edges:\n",
    "        if leaves[e[1]] == 1: # leaf\n",
    "            io[e[1]] = ii[e[1]] - sys.g[e[1]].solv_inp_curr(vi[e[0]], .0, .0)\n",
    "        else:\n",
    "            c = childs[e[1]]\n",
    "            io[e[1]] = ii[e[1]] - sys.g[e[1]].solv_inp_curr(vi[e[0]], vi[e[1]], ii[c[0]])\n",
    "    # add currents into childs from root\n",
    "    isum = 0\n",
    "    for c in childs[0]:\n",
    "        isum += ii[c]\n",
    "    io[0] = ii[0] - isum\n",
    "            \n",
    "    # map f(v/i) to f(x)\n",
    "    y = np.zeros(len(x))\n",
    "    for n in range(len(nodes)):\n",
    "        y[n] = vo[nodes[n]]\n",
    "    for e in range(len(edges)):\n",
    "        y[len(nodes)+e] = io[edges[e][1]] \n",
    "    y[-1] = io[0] \n",
    "            \n",
    "    #print(y)\n",
    "    return y"
   ]
  },
  {
   "cell_type": "code",
   "execution_count": 23,
   "id": "aaaeb9c4",
   "metadata": {},
   "outputs": [
    {
     "data": {
      "text/plain": [
       "array([-1.50314693, 16.35832126, -0.6954055 ,  0.68606533, -3.68370378,\n",
       "        1.21017742,  1.20789251, -0.44208121,  1.45990493, -1.47881996,\n",
       "        0.58696221, -0.52109743])"
      ]
     },
     "execution_count": 23,
     "metadata": {},
     "output_type": "execute_result"
    }
   ],
   "source": [
    "sys_function(sys_init(case1), case1.get_nodes(), case1.get_edges(), case1.get_childs(), \n",
    "             case1.get_parents(), case1.get_leaves(), case1)\n",
    "\n",
    "#sys_init(case1)"
   ]
  },
  {
   "cell_type": "code",
   "execution_count": 24,
   "id": "8534f434",
   "metadata": {},
   "outputs": [
    {
     "data": {
      "text/plain": [
       "(array([ 3.00000000e+00,  2.60718656e+00,  1.80000000e+00, -2.43026589e-41,\n",
       "         5.00000000e+00,  9.47185335e-42,  3.00000000e-03,  5.49450549e-03,\n",
       "         1.50000000e-02,  1.19034377e-02,  1.19034377e-02,  1.73979432e-02]),\n",
       " 38)"
      ]
     },
     "execution_count": 24,
     "metadata": {},
     "output_type": "execute_result"
    }
   ],
   "source": [
    "res = fsolve(sys_function, \n",
    "       sys_init(case1), \n",
    "       args=(case1.get_nodes(), case1.get_edges(), case1.get_childs(), case1.get_parents(), case1.get_leaves(), case1),\n",
    "       full_output = True)\n",
    "res[0], res[1]['nfev']"
   ]
  },
  {
   "cell_type": "markdown",
   "id": "b9465c27",
   "metadata": {},
   "source": [
    "array([3.00000000e+00, 2.60718656e+00, 1.80000000e+00, 0.00000000e+00,\n",
    "       5.00000000e+00, 0.00000000e+00, 3.00000000e-03, 5.49450549e-03,\n",
    "       1.50000000e-02, 1.19034377e-02, 1.19034377e-02, 1.73979432e-02])"
   ]
  },
  {
   "cell_type": "code",
   "execution_count": 75,
   "id": "b8654986",
   "metadata": {},
   "outputs": [
    {
     "ename": "AttributeError",
     "evalue": "'system' object has no attribute '__methods__'",
     "output_type": "error",
     "traceback": [
      "\u001b[1;31m---------------------------------------------------------------------------\u001b[0m",
      "\u001b[1;31mAttributeError\u001b[0m                            Traceback (most recent call last)",
      "Cell \u001b[1;32mIn[75], line 1\u001b[0m\n\u001b[1;32m----> 1\u001b[0m \u001b[43mcase1\u001b[49m\u001b[38;5;241;43m.\u001b[39;49m\u001b[43m__methods__\u001b[49m\n",
      "\u001b[1;31mAttributeError\u001b[0m: 'system' object has no attribute '__methods__'"
     ]
    }
   ],
   "source": [
    "case1.__methods__"
   ]
  },
  {
   "cell_type": "code",
   "execution_count": 13,
   "id": "592f8ca2",
   "metadata": {},
   "outputs": [
    {
     "name": "stdout",
     "output_type": "stream",
     "text": [
      "1.8V buck CONVERTER ['MCU']\n",
      "Resistor LOSS ['1.8V buck']\n",
      "5V boost CONVERTER ['Sensor']\n",
      "3V coin SOURCE ['5V boost', 'Resistor']\n"
     ]
    }
   ],
   "source": [
    "n = rx.bfs_successors(case1.g, 0)\n",
    "for e in reversed(n):\n",
    "    print(e[0].name, e[0].element_type.name, [x.name for x in e[1]])"
   ]
  },
  {
   "cell_type": "code",
   "execution_count": 75,
   "id": "288d5b02",
   "metadata": {},
   "outputs": [
    {
     "data": {
      "text/plain": [
       "3.0"
      ]
     },
     "execution_count": 75,
     "metadata": {},
     "output_type": "execute_result"
    }
   ],
   "source": [
    "e[0].get_inp_voltage()"
   ]
  },
  {
   "cell_type": "code",
   "execution_count": 69,
   "id": "e761fefb",
   "metadata": {},
   "outputs": [
    {
     "data": {
      "text/plain": [
       "[<__main__.Load at 0x1a08ce39d30>, <__main__.Load at 0x1a08cdfff10>]"
      ]
     },
     "execution_count": 69,
     "metadata": {},
     "output_type": "execute_result"
    }
   ],
   "source": [
    "# end nodes:\n",
    "[x for x in case1.g.nodes() if case1.g.out_degree(case1.g.attrs[x.name])==0 and case1.g.in_degree(case1.g.attrs[x.name])==1]"
   ]
  },
  {
   "cell_type": "markdown",
   "id": "67e6f04d",
   "metadata": {},
   "source": [
    "Solve for:\n",
    "* input current\n",
    "* output voltage"
   ]
  },
  {
   "cell_type": "code",
   "execution_count": 33,
   "id": "02d18d5e",
   "metadata": {},
   "outputs": [
    {
     "name": "stdout",
     "output_type": "stream",
     "text": [
      "3.0\n",
      "0.0\n",
      "0.0\n",
      "0.0\n",
      "0.0\n"
     ]
    }
   ],
   "source": [
    "for e in case1.g.nodes():\n",
    "    print(e.get_inp_voltage())"
   ]
  },
  {
   "cell_type": "code",
   "execution_count": 66,
   "id": "c2d5ca1a",
   "metadata": {},
   "outputs": [
    {
     "data": {
      "text/plain": [
       "(0.7299270072992701, 10.0)"
      ]
     },
     "execution_count": 66,
     "metadata": {},
     "output_type": "execute_result"
    }
   ],
   "source": []
  },
  {
   "cell_type": "code",
   "execution_count": null,
   "id": "51ad3112",
   "metadata": {},
   "outputs": [],
   "source": [
    "e2 = Load(\"test\", current=7)\n",
    "e2.i"
   ]
  },
  {
   "cell_type": "code",
   "execution_count": 34,
   "id": "40c39bda",
   "metadata": {},
   "outputs": [
    {
     "data": {
      "text/plain": [
       "[<ElementTypes.LOAD: 2>, <ElementTypes.LOSS: 3>, <ElementTypes.CONVERTER: 4>]"
      ]
     },
     "execution_count": 34,
     "metadata": {},
     "output_type": "execute_result"
    }
   ],
   "source": [
    "a=list(ElementTypes)\n",
    "a.remove(ElementTypes.SOURCE)\n",
    "a"
   ]
  },
  {
   "cell_type": "code",
   "execution_count": 58,
   "id": "2d1df8de",
   "metadata": {},
   "outputs": [
    {
     "data": {
      "text/plain": [
       "{'name': 'main', 'vo': 230, 'max_io': -1}"
      ]
     },
     "execution_count": 58,
     "metadata": {},
     "output_type": "execute_result"
    }
   ],
   "source": [
    "s = Source(\"main\", voltage=230)\n",
    "s.__dict__"
   ]
  },
  {
   "cell_type": "code",
   "execution_count": 8,
   "id": "09281d04",
   "metadata": {},
   "outputs": [],
   "source": [
    "with open('source1.toml', 'w') as f:\n",
    "    toml.dump({'voltage': 60.2, 'max_current': 0.72, 'comment': \"test string\"}, f)"
   ]
  },
  {
   "cell_type": "code",
   "execution_count": 9,
   "id": "1feb705b",
   "metadata": {},
   "outputs": [
    {
     "data": {
      "text/plain": [
       "{'name': 'test2', 'vo': 60.2, 'max_io': 0.72}"
      ]
     },
     "execution_count": 9,
     "metadata": {},
     "output_type": "execute_result"
    }
   ],
   "source": [
    "s2 = Source.from_file(\"test2\", fname=\"source1.toml\")\n",
    "s2.__dict__"
   ]
  },
  {
   "cell_type": "code",
   "execution_count": 59,
   "id": "0f94d92f",
   "metadata": {},
   "outputs": [
    {
     "data": {
      "text/plain": [
       "230"
      ]
     },
     "execution_count": 59,
     "metadata": {},
     "output_type": "execute_result"
    }
   ],
   "source": [
    "s.get_inp_voltage()"
   ]
  },
  {
   "cell_type": "code",
   "execution_count": 52,
   "id": "bd9ad65f",
   "metadata": {},
   "outputs": [
    {
     "data": {
      "text/html": [
       "<pre style=\"white-space:pre;overflow-x:auto;line-height:normal;font-family:Menlo,'DejaVu Sans Mono',consolas,'Courier New',monospace\">3V coin\n",
       "├── 5V boost\n",
       "│   └── Sensor\n",
       "└── Resistor\n",
       "    └── 1.8V buck\n",
       "        └── MCU\n",
       "</pre>\n"
      ],
      "text/plain": [
       "3V coin\n",
       "├── 5V boost\n",
       "│   └── Sensor\n",
       "└── Resistor\n",
       "    └── 1.8V buck\n",
       "        └── MCU\n"
      ]
     },
     "execution_count": 52,
     "metadata": {},
     "output_type": "execute_result"
    }
   ],
   "source": [
    "def make_rtree(adj, node):\n",
    "    tree = Tree(node)\n",
    "    for child in adj.get(node, []):\n",
    "        tree.add(make_rtree(adj, child))\n",
    "    return tree\n",
    "\n",
    "adj = rx.bfs_successors(case1.g, 0)\n",
    "ndict = {}\n",
    "for i in adj:\n",
    "    c = []\n",
    "    for j in i[1]:\n",
    "        c += [j.name]\n",
    "    ndict[i[0].name] = c\n",
    "make_rtree(ndict, \"3V coin\")"
   ]
  },
  {
   "cell_type": "code",
   "execution_count": 51,
   "id": "0a19cebf",
   "metadata": {},
   "outputs": [
    {
     "ename": "AttributeError",
     "evalue": "'list' object has no attribute 'name'",
     "output_type": "error",
     "traceback": [
      "\u001b[1;31m---------------------------------------------------------------------------\u001b[0m",
      "\u001b[1;31mAttributeError\u001b[0m                            Traceback (most recent call last)",
      "Cell \u001b[1;32mIn[51], line 2\u001b[0m\n\u001b[0;32m      1\u001b[0m \u001b[38;5;28;01mfor\u001b[39;00m i \u001b[38;5;129;01min\u001b[39;00m rx\u001b[38;5;241m.\u001b[39mbfs_successors(case1\u001b[38;5;241m.\u001b[39mg, \u001b[38;5;241m0\u001b[39m):\n\u001b[1;32m----> 2\u001b[0m     \u001b[38;5;28mprint\u001b[39m(\u001b[43mi\u001b[49m\u001b[43m[\u001b[49m\u001b[38;5;241;43m1\u001b[39;49m\u001b[43m]\u001b[49m\u001b[38;5;241;43m.\u001b[39;49m\u001b[43mname\u001b[49m)\n",
      "\u001b[1;31mAttributeError\u001b[0m: 'list' object has no attribute 'name'"
     ]
    }
   ],
   "source": [
    "for i in rx.bfs_successors(case1.g, 0):\n",
    "    print(i[1].name)"
   ]
  },
  {
   "cell_type": "code",
   "execution_count": 60,
   "id": "4350383a",
   "metadata": {},
   "outputs": [
    {
     "data": {
      "text/html": [
       "<pre style=\"white-space:pre;overflow-x:auto;line-height:normal;font-family:Menlo,'DejaVu Sans Mono',consolas,'Courier New',monospace\">3V coin\n",
       "├── 5V boost\n",
       "│   └── Sensor\n",
       "└── Resistor\n",
       "    └── 1.8V buck\n",
       "        └── MCU\n",
       "</pre>\n"
      ],
      "text/plain": [
       "3V coin\n",
       "├── 5V boost\n",
       "│   └── Sensor\n",
       "└── Resistor\n",
       "    └── 1.8V buck\n",
       "        └── MCU\n"
      ]
     },
     "execution_count": 60,
     "metadata": {},
     "output_type": "execute_result"
    }
   ],
   "source": [
    "s"
   ]
  },
  {
   "cell_type": "code",
   "execution_count": 61,
   "id": "4500522e",
   "metadata": {},
   "outputs": [
    {
     "data": {
      "text/plain": [
       "rich.tree.Tree"
      ]
     },
     "execution_count": 61,
     "metadata": {},
     "output_type": "execute_result"
    }
   ],
   "source": [
    "type(s)"
   ]
  },
  {
   "cell_type": "code",
   "execution_count": null,
   "id": "39108abc",
   "metadata": {},
   "outputs": [],
   "source": []
  }
 ],
 "metadata": {
  "kernelspec": {
   "display_name": "Python 3 (ipykernel)",
   "language": "python",
   "name": "python3"
  },
  "language_info": {
   "codemirror_mode": {
    "name": "ipython",
    "version": 3
   },
   "file_extension": ".py",
   "mimetype": "text/x-python",
   "name": "python",
   "nbconvert_exporter": "python",
   "pygments_lexer": "ipython3",
   "version": "3.8.18"
  }
 },
 "nbformat": 4,
 "nbformat_minor": 5
}
